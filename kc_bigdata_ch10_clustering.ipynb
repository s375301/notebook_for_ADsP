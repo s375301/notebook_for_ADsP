{
  "nbformat": 4,
  "nbformat_minor": 0,
  "metadata": {
    "colab": {
      "name": "kc_bigdata_ch10_clustering.ipynb",
      "provenance": [],
      "collapsed_sections": [],
      "authorship_tag": "ABX9TyPeLWXM0TvvQtfS+QkN3bLD"
    },
    "kernelspec": {
      "name": "python3",
      "display_name": "Python 3"
    },
    "language_info": {
      "name": "python"
    }
  },
  "cells": [
    {
      "cell_type": "markdown",
      "metadata": {
        "id": "3f3Ed3lN8SXU"
      },
      "source": [
        "# Ch10. K-Means Clustering"
      ]
    },
    {
      "cell_type": "code",
      "metadata": {
        "id": "5oR9zmJc8pR2"
      },
      "source": [
        "# mount\n",
        "from google.colab import drive\n",
        "drive.mount('/content/drive')"
      ],
      "execution_count": null,
      "outputs": []
    },
    {
      "cell_type": "markdown",
      "metadata": {
        "id": "AQ7xcdJH9VDA"
      },
      "source": [
        "## import"
      ]
    },
    {
      "cell_type": "code",
      "metadata": {
        "id": "94RPwy3B86GR"
      },
      "source": [
        "# import\n",
        "import numpy as np\n",
        "import pandas as pd\n",
        "import matplotlib.pyplot as plt"
      ],
      "execution_count": 3,
      "outputs": []
    },
    {
      "cell_type": "code",
      "metadata": {
        "id": "hOKzkYnj9DPR"
      },
      "source": [
        "# dpp\n",
        "from sklearn.preprocessing import StandardScaler"
      ],
      "execution_count": 4,
      "outputs": []
    },
    {
      "cell_type": "code",
      "metadata": {
        "id": "StOrMLaE9MAc"
      },
      "source": [
        "# create model\n",
        "from sklearn.cluster import KMeans"
      ],
      "execution_count": 5,
      "outputs": []
    },
    {
      "cell_type": "markdown",
      "metadata": {
        "id": "ZrYBv8g39WMp"
      },
      "source": [
        "## read.csv\n",
        "- shape\n",
        "- keys"
      ]
    },
    {
      "cell_type": "code",
      "metadata": {
        "colab": {
          "base_uri": "https://localhost:8080/",
          "height": 204
        },
        "id": "EED9tcLq8qIJ",
        "outputId": "15400961-d255-4501-cfac-78d015e3aeb4"
      },
      "source": [
        "utils = pd.read_csv(\"/content/drive/MyDrive/Colab Notebooks/youtube_others/_data/Utilities.csv\")\n",
        "utils.head()"
      ],
      "execution_count": 8,
      "outputs": [
        {
          "output_type": "execute_result",
          "data": {
            "text/html": [
              "<div>\n",
              "<style scoped>\n",
              "    .dataframe tbody tr th:only-of-type {\n",
              "        vertical-align: middle;\n",
              "    }\n",
              "\n",
              "    .dataframe tbody tr th {\n",
              "        vertical-align: top;\n",
              "    }\n",
              "\n",
              "    .dataframe thead th {\n",
              "        text-align: right;\n",
              "    }\n",
              "</style>\n",
              "<table border=\"1\" class=\"dataframe\">\n",
              "  <thead>\n",
              "    <tr style=\"text-align: right;\">\n",
              "      <th></th>\n",
              "      <th>Company</th>\n",
              "      <th>Fixed_charge</th>\n",
              "      <th>RoR</th>\n",
              "      <th>Cost</th>\n",
              "      <th>Load_factor</th>\n",
              "      <th>Demand_growth</th>\n",
              "      <th>Sales</th>\n",
              "      <th>Nuclear</th>\n",
              "      <th>Fuel_Cost</th>\n",
              "    </tr>\n",
              "  </thead>\n",
              "  <tbody>\n",
              "    <tr>\n",
              "      <th>0</th>\n",
              "      <td>Arizona</td>\n",
              "      <td>1.06</td>\n",
              "      <td>9.2</td>\n",
              "      <td>151</td>\n",
              "      <td>54.4</td>\n",
              "      <td>1.6</td>\n",
              "      <td>9077</td>\n",
              "      <td>0.0</td>\n",
              "      <td>0.628</td>\n",
              "    </tr>\n",
              "    <tr>\n",
              "      <th>1</th>\n",
              "      <td>Boston</td>\n",
              "      <td>0.89</td>\n",
              "      <td>10.3</td>\n",
              "      <td>202</td>\n",
              "      <td>57.9</td>\n",
              "      <td>2.2</td>\n",
              "      <td>5088</td>\n",
              "      <td>25.3</td>\n",
              "      <td>1.555</td>\n",
              "    </tr>\n",
              "    <tr>\n",
              "      <th>2</th>\n",
              "      <td>Central</td>\n",
              "      <td>1.43</td>\n",
              "      <td>15.4</td>\n",
              "      <td>113</td>\n",
              "      <td>53.0</td>\n",
              "      <td>3.4</td>\n",
              "      <td>9212</td>\n",
              "      <td>0.0</td>\n",
              "      <td>1.058</td>\n",
              "    </tr>\n",
              "    <tr>\n",
              "      <th>3</th>\n",
              "      <td>Commonwealth</td>\n",
              "      <td>1.02</td>\n",
              "      <td>11.2</td>\n",
              "      <td>168</td>\n",
              "      <td>56.0</td>\n",
              "      <td>0.3</td>\n",
              "      <td>6423</td>\n",
              "      <td>34.3</td>\n",
              "      <td>0.700</td>\n",
              "    </tr>\n",
              "    <tr>\n",
              "      <th>4</th>\n",
              "      <td>NY</td>\n",
              "      <td>1.49</td>\n",
              "      <td>8.8</td>\n",
              "      <td>192</td>\n",
              "      <td>51.2</td>\n",
              "      <td>1.0</td>\n",
              "      <td>3300</td>\n",
              "      <td>15.6</td>\n",
              "      <td>2.044</td>\n",
              "    </tr>\n",
              "  </tbody>\n",
              "</table>\n",
              "</div>"
            ],
            "text/plain": [
              "        Company  Fixed_charge   RoR  ...  Sales  Nuclear  Fuel_Cost\n",
              "0      Arizona           1.06   9.2  ...   9077      0.0      0.628\n",
              "1       Boston           0.89  10.3  ...   5088     25.3      1.555\n",
              "2      Central           1.43  15.4  ...   9212      0.0      1.058\n",
              "3  Commonwealth          1.02  11.2  ...   6423     34.3      0.700\n",
              "4            NY          1.49   8.8  ...   3300     15.6      2.044\n",
              "\n",
              "[5 rows x 9 columns]"
            ]
          },
          "metadata": {},
          "execution_count": 8
        }
      ]
    },
    {
      "cell_type": "code",
      "metadata": {
        "colab": {
          "base_uri": "https://localhost:8080/"
        },
        "id": "ab3yIkhx9it3",
        "outputId": "350748b9-ab0b-4b57-99cc-a8241fee7533"
      },
      "source": [
        "utils.shape"
      ],
      "execution_count": 9,
      "outputs": [
        {
          "output_type": "execute_result",
          "data": {
            "text/plain": [
              "(22, 9)"
            ]
          },
          "metadata": {},
          "execution_count": 9
        }
      ]
    },
    {
      "cell_type": "code",
      "metadata": {
        "colab": {
          "base_uri": "https://localhost:8080/"
        },
        "id": "jGgoUXw192KR",
        "outputId": "73697bc6-b701-4298-93bf-9afd3acf8e6a"
      },
      "source": [
        "utils.columns # == utils.keys()"
      ],
      "execution_count": 12,
      "outputs": [
        {
          "output_type": "execute_result",
          "data": {
            "text/plain": [
              "Index(['Company', 'Fixed_charge', 'RoR', 'Cost', 'Load_factor',\n",
              "       'Demand_growth', 'Sales', 'Nuclear', 'Fuel_Cost'],\n",
              "      dtype='object')"
            ]
          },
          "metadata": {},
          "execution_count": 12
        }
      ]
    },
    {
      "cell_type": "markdown",
      "metadata": {
        "id": "HuJXbbKI95ou"
      },
      "source": [
        "## dpp"
      ]
    },
    {
      "cell_type": "markdown",
      "metadata": {
        "id": "P_Vq_pDtA0x2"
      },
      "source": [
        "#### set index"
      ]
    },
    {
      "cell_type": "code",
      "metadata": {
        "colab": {
          "base_uri": "https://localhost:8080/",
          "height": 235
        },
        "id": "J4LD1SZTAJ1b",
        "outputId": "c500420c-8896-4176-cf6d-b4441251a46f"
      },
      "source": [
        "# 표준화하기 위해 연속형 자료를 제외하고 인덱스(라벨)로 지정\n",
        "utils1 = utils.set_index('Company')\n",
        "utils1.head()"
      ],
      "execution_count": 14,
      "outputs": [
        {
          "output_type": "execute_result",
          "data": {
            "text/html": [
              "<div>\n",
              "<style scoped>\n",
              "    .dataframe tbody tr th:only-of-type {\n",
              "        vertical-align: middle;\n",
              "    }\n",
              "\n",
              "    .dataframe tbody tr th {\n",
              "        vertical-align: top;\n",
              "    }\n",
              "\n",
              "    .dataframe thead th {\n",
              "        text-align: right;\n",
              "    }\n",
              "</style>\n",
              "<table border=\"1\" class=\"dataframe\">\n",
              "  <thead>\n",
              "    <tr style=\"text-align: right;\">\n",
              "      <th></th>\n",
              "      <th>Fixed_charge</th>\n",
              "      <th>RoR</th>\n",
              "      <th>Cost</th>\n",
              "      <th>Load_factor</th>\n",
              "      <th>Demand_growth</th>\n",
              "      <th>Sales</th>\n",
              "      <th>Nuclear</th>\n",
              "      <th>Fuel_Cost</th>\n",
              "    </tr>\n",
              "    <tr>\n",
              "      <th>Company</th>\n",
              "      <th></th>\n",
              "      <th></th>\n",
              "      <th></th>\n",
              "      <th></th>\n",
              "      <th></th>\n",
              "      <th></th>\n",
              "      <th></th>\n",
              "      <th></th>\n",
              "    </tr>\n",
              "  </thead>\n",
              "  <tbody>\n",
              "    <tr>\n",
              "      <th>Arizona</th>\n",
              "      <td>1.06</td>\n",
              "      <td>9.2</td>\n",
              "      <td>151</td>\n",
              "      <td>54.4</td>\n",
              "      <td>1.6</td>\n",
              "      <td>9077</td>\n",
              "      <td>0.0</td>\n",
              "      <td>0.628</td>\n",
              "    </tr>\n",
              "    <tr>\n",
              "      <th>Boston</th>\n",
              "      <td>0.89</td>\n",
              "      <td>10.3</td>\n",
              "      <td>202</td>\n",
              "      <td>57.9</td>\n",
              "      <td>2.2</td>\n",
              "      <td>5088</td>\n",
              "      <td>25.3</td>\n",
              "      <td>1.555</td>\n",
              "    </tr>\n",
              "    <tr>\n",
              "      <th>Central</th>\n",
              "      <td>1.43</td>\n",
              "      <td>15.4</td>\n",
              "      <td>113</td>\n",
              "      <td>53.0</td>\n",
              "      <td>3.4</td>\n",
              "      <td>9212</td>\n",
              "      <td>0.0</td>\n",
              "      <td>1.058</td>\n",
              "    </tr>\n",
              "    <tr>\n",
              "      <th>Commonwealth</th>\n",
              "      <td>1.02</td>\n",
              "      <td>11.2</td>\n",
              "      <td>168</td>\n",
              "      <td>56.0</td>\n",
              "      <td>0.3</td>\n",
              "      <td>6423</td>\n",
              "      <td>34.3</td>\n",
              "      <td>0.700</td>\n",
              "    </tr>\n",
              "    <tr>\n",
              "      <th>NY</th>\n",
              "      <td>1.49</td>\n",
              "      <td>8.8</td>\n",
              "      <td>192</td>\n",
              "      <td>51.2</td>\n",
              "      <td>1.0</td>\n",
              "      <td>3300</td>\n",
              "      <td>15.6</td>\n",
              "      <td>2.044</td>\n",
              "    </tr>\n",
              "  </tbody>\n",
              "</table>\n",
              "</div>"
            ],
            "text/plain": [
              "              Fixed_charge   RoR  Cost  ...  Sales  Nuclear  Fuel_Cost\n",
              "Company                                 ...                           \n",
              "Arizona               1.06   9.2   151  ...   9077      0.0      0.628\n",
              "Boston                0.89  10.3   202  ...   5088     25.3      1.555\n",
              "Central               1.43  15.4   113  ...   9212      0.0      1.058\n",
              "Commonwealth          1.02  11.2   168  ...   6423     34.3      0.700\n",
              "NY                    1.49   8.8   192  ...   3300     15.6      2.044\n",
              "\n",
              "[5 rows x 8 columns]"
            ]
          },
          "metadata": {},
          "execution_count": 14
        }
      ]
    },
    {
      "cell_type": "markdown",
      "metadata": {
        "id": "z6AxMOOOAeLF"
      },
      "source": [
        "#### standardization\n",
        "- 정규분포를 따르도록 표준화 ~ N(0,1)\n",
        "- fit, transform, fit_transform\n",
        "```python\n",
        "from sklearn.preprocessing import StandardScaler\n",
        "scaler = StandardScaler()\n",
        "# Method Chaining\n",
        "X_scaled = scaler.fit(X_train).transform(X_train)\n",
        "# fit_transform method: more efficient\n",
        "X_scaled_d = scaler.fit_transform(X_train)\n",
        "# transform test data\n",
        "X_tested_scaled = scaler.transform(X_test)\n",
        "plt.scatter(X_scaled[:,0], X_scaled[:,1])\n",
        "```\n",
        "\n",
        "- [참고자료](https://m.blog.naver.com/PostView.naver?isHttpsRedirect=true&blogId=demian7607&logNo=222009975984)"
      ]
    },
    {
      "cell_type": "code",
      "metadata": {
        "colab": {
          "base_uri": "https://localhost:8080/",
          "height": 762
        },
        "id": "VbY-69KNA-xI",
        "outputId": "2114e6a5-2d6b-4ae8-8e27-7ddbc8921191"
      },
      "source": [
        "# create class obj.\n",
        "stdsc = StandardScaler()\n",
        "utils2 = pd.DataFrame(stdsc.fit_transform(utils1),\n",
        "                      index=utils1.index, columns=utils1.columns)\n",
        "utils2"
      ],
      "execution_count": 17,
      "outputs": [
        {
          "output_type": "execute_result",
          "data": {
            "text/html": [
              "<div>\n",
              "<style scoped>\n",
              "    .dataframe tbody tr th:only-of-type {\n",
              "        vertical-align: middle;\n",
              "    }\n",
              "\n",
              "    .dataframe tbody tr th {\n",
              "        vertical-align: top;\n",
              "    }\n",
              "\n",
              "    .dataframe thead th {\n",
              "        text-align: right;\n",
              "    }\n",
              "</style>\n",
              "<table border=\"1\" class=\"dataframe\">\n",
              "  <thead>\n",
              "    <tr style=\"text-align: right;\">\n",
              "      <th></th>\n",
              "      <th>Fixed_charge</th>\n",
              "      <th>RoR</th>\n",
              "      <th>Cost</th>\n",
              "      <th>Load_factor</th>\n",
              "      <th>Demand_growth</th>\n",
              "      <th>Sales</th>\n",
              "      <th>Nuclear</th>\n",
              "      <th>Fuel_Cost</th>\n",
              "    </tr>\n",
              "    <tr>\n",
              "      <th>Company</th>\n",
              "      <th></th>\n",
              "      <th></th>\n",
              "      <th></th>\n",
              "      <th></th>\n",
              "      <th></th>\n",
              "      <th></th>\n",
              "      <th></th>\n",
              "      <th></th>\n",
              "    </tr>\n",
              "  </thead>\n",
              "  <tbody>\n",
              "    <tr>\n",
              "      <th>Arizona</th>\n",
              "      <td>-0.300057</td>\n",
              "      <td>-0.700750</td>\n",
              "      <td>-0.426938</td>\n",
              "      <td>-0.591310</td>\n",
              "      <td>-0.538611</td>\n",
              "      <td>0.046983</td>\n",
              "      <td>-0.731447</td>\n",
              "      <td>-0.873765</td>\n",
              "    </tr>\n",
              "    <tr>\n",
              "      <th>Boston</th>\n",
              "      <td>-1.243092</td>\n",
              "      <td>-0.199030</td>\n",
              "      <td>0.840322</td>\n",
              "      <td>0.211704</td>\n",
              "      <td>-0.341667</td>\n",
              "      <td>-1.103127</td>\n",
              "      <td>0.810687</td>\n",
              "      <td>0.832436</td>\n",
              "    </tr>\n",
              "    <tr>\n",
              "      <th>Central</th>\n",
              "      <td>1.752432</td>\n",
              "      <td>2.127130</td>\n",
              "      <td>-1.371171</td>\n",
              "      <td>-0.912516</td>\n",
              "      <td>0.052220</td>\n",
              "      <td>0.085906</td>\n",
              "      <td>-0.731447</td>\n",
              "      <td>-0.082323</td>\n",
              "    </tr>\n",
              "    <tr>\n",
              "      <th>Commonwealth</th>\n",
              "      <td>-0.521947</td>\n",
              "      <td>0.211469</td>\n",
              "      <td>-0.004518</td>\n",
              "      <td>-0.224218</td>\n",
              "      <td>-0.965322</td>\n",
              "      <td>-0.718219</td>\n",
              "      <td>1.359271</td>\n",
              "      <td>-0.741244</td>\n",
              "    </tr>\n",
              "    <tr>\n",
              "      <th>NY</th>\n",
              "      <td>2.085268</td>\n",
              "      <td>-0.883194</td>\n",
              "      <td>0.591840</td>\n",
              "      <td>-1.325495</td>\n",
              "      <td>-0.735555</td>\n",
              "      <td>-1.618644</td>\n",
              "      <td>0.219434</td>\n",
              "      <td>1.732470</td>\n",
              "    </tr>\n",
              "    <tr>\n",
              "      <th>Florida</th>\n",
              "      <td>1.142233</td>\n",
              "      <td>1.260521</td>\n",
              "      <td>-1.420868</td>\n",
              "      <td>0.693512</td>\n",
              "      <td>-1.785921</td>\n",
              "      <td>0.638040</td>\n",
              "      <td>0.640016</td>\n",
              "      <td>0.254499</td>\n",
              "    </tr>\n",
              "    <tr>\n",
              "      <th>Hawaiian</th>\n",
              "      <td>0.587506</td>\n",
              "      <td>0.667579</td>\n",
              "      <td>0.169420</td>\n",
              "      <td>2.437200</td>\n",
              "      <td>-0.341667</td>\n",
              "      <td>-0.366757</td>\n",
              "      <td>-0.731447</td>\n",
              "      <td>1.010970</td>\n",
              "    </tr>\n",
              "    <tr>\n",
              "      <th>Idaho</th>\n",
              "      <td>-0.078166</td>\n",
              "      <td>-0.700750</td>\n",
              "      <td>1.908797</td>\n",
              "      <td>0.005214</td>\n",
              "      <td>0.019396</td>\n",
              "      <td>1.201706</td>\n",
              "      <td>-0.731447</td>\n",
              "      <td>-1.460904</td>\n",
              "    </tr>\n",
              "    <tr>\n",
              "      <th>Kentucky</th>\n",
              "      <td>1.253178</td>\n",
              "      <td>1.032466</td>\n",
              "      <td>-0.004518</td>\n",
              "      <td>0.785285</td>\n",
              "      <td>1.299530</td>\n",
              "      <td>-0.146480</td>\n",
              "      <td>-0.731447</td>\n",
              "      <td>-0.443073</td>\n",
              "    </tr>\n",
              "    <tr>\n",
              "      <th>Madison</th>\n",
              "      <td>0.032779</td>\n",
              "      <td>0.758801</td>\n",
              "      <td>0.716081</td>\n",
              "      <td>-0.912516</td>\n",
              "      <td>-0.177548</td>\n",
              "      <td>-0.708993</td>\n",
              "      <td>1.657945</td>\n",
              "      <td>-0.882967</td>\n",
              "    </tr>\n",
              "    <tr>\n",
              "      <th>Nevada</th>\n",
              "      <td>-2.019709</td>\n",
              "      <td>-1.476137</td>\n",
              "      <td>0.119723</td>\n",
              "      <td>-1.256665</td>\n",
              "      <td>1.069762</td>\n",
              "      <td>2.458495</td>\n",
              "      <td>-0.731447</td>\n",
              "      <td>-0.616086</td>\n",
              "    </tr>\n",
              "    <tr>\n",
              "      <th>New England</th>\n",
              "      <td>0.088252</td>\n",
              "      <td>0.074636</td>\n",
              "      <td>0.243965</td>\n",
              "      <td>1.152377</td>\n",
              "      <td>0.150692</td>\n",
              "      <td>-0.795777</td>\n",
              "      <td>-0.731447</td>\n",
              "      <td>1.461908</td>\n",
              "    </tr>\n",
              "    <tr>\n",
              "      <th>Northern</th>\n",
              "      <td>0.199197</td>\n",
              "      <td>0.895634</td>\n",
              "      <td>0.765778</td>\n",
              "      <td>-0.751913</td>\n",
              "      <td>1.036938</td>\n",
              "      <td>-0.500249</td>\n",
              "      <td>2.328438</td>\n",
              "      <td>-1.059661</td>\n",
              "    </tr>\n",
              "    <tr>\n",
              "      <th>Oklahoma</th>\n",
              "      <td>-0.133639</td>\n",
              "      <td>0.576357</td>\n",
              "      <td>-1.793591</td>\n",
              "      <td>-1.646700</td>\n",
              "      <td>-0.604259</td>\n",
              "      <td>0.218822</td>\n",
              "      <td>-0.731447</td>\n",
              "      <td>-0.947387</td>\n",
              "    </tr>\n",
              "    <tr>\n",
              "      <th>Pacific</th>\n",
              "      <td>-0.854783</td>\n",
              "      <td>-1.430526</td>\n",
              "      <td>-0.103911</td>\n",
              "      <td>1.198264</td>\n",
              "      <td>-1.096618</td>\n",
              "      <td>-0.705245</td>\n",
              "      <td>-0.676588</td>\n",
              "      <td>0.547149</td>\n",
              "    </tr>\n",
              "    <tr>\n",
              "      <th>Puget</th>\n",
              "      <td>0.254670</td>\n",
              "      <td>-0.381474</td>\n",
              "      <td>2.082734</td>\n",
              "      <td>-0.224218</td>\n",
              "      <td>1.956008</td>\n",
              "      <td>2.040430</td>\n",
              "      <td>-0.731447</td>\n",
              "      <td>-0.888489</td>\n",
              "    </tr>\n",
              "    <tr>\n",
              "      <th>San Diego</th>\n",
              "      <td>-1.964237</td>\n",
              "      <td>-1.977857</td>\n",
              "      <td>-0.799662</td>\n",
              "      <td>1.129434</td>\n",
              "      <td>1.890361</td>\n",
              "      <td>-0.922638</td>\n",
              "      <td>-0.225529</td>\n",
              "      <td>1.504241</td>\n",
              "    </tr>\n",
              "    <tr>\n",
              "      <th>Southern</th>\n",
              "      <td>-0.355529</td>\n",
              "      <td>0.850023</td>\n",
              "      <td>-0.451786</td>\n",
              "      <td>-0.063615</td>\n",
              "      <td>-0.177548</td>\n",
              "      <td>0.353468</td>\n",
              "      <td>-0.731447</td>\n",
              "      <td>0.009705</td>\n",
              "    </tr>\n",
              "    <tr>\n",
              "      <th>Texas</th>\n",
              "      <td>0.254670</td>\n",
              "      <td>0.439524</td>\n",
              "      <td>-1.594805</td>\n",
              "      <td>-0.683083</td>\n",
              "      <td>-1.753097</td>\n",
              "      <td>1.324242</td>\n",
              "      <td>-0.731447</td>\n",
              "      <td>-0.859040</td>\n",
              "    </tr>\n",
              "    <tr>\n",
              "      <th>Wisconsin</th>\n",
              "      <td>0.476561</td>\n",
              "      <td>0.485135</td>\n",
              "      <td>-0.501483</td>\n",
              "      <td>0.670569</td>\n",
              "      <td>0.085044</td>\n",
              "      <td>-0.469110</td>\n",
              "      <td>1.773758</td>\n",
              "      <td>-0.737563</td>\n",
              "    </tr>\n",
              "    <tr>\n",
              "      <th>United</th>\n",
              "      <td>-0.411002</td>\n",
              "      <td>-0.974416</td>\n",
              "      <td>0.890019</td>\n",
              "      <td>0.922945</td>\n",
              "      <td>0.085044</td>\n",
              "      <td>-0.652770</td>\n",
              "      <td>-0.731447</td>\n",
              "      <td>1.864991</td>\n",
              "    </tr>\n",
              "    <tr>\n",
              "      <th>Virginia</th>\n",
              "      <td>-0.244584</td>\n",
              "      <td>-0.655139</td>\n",
              "      <td>0.144572</td>\n",
              "      <td>-0.614254</td>\n",
              "      <td>0.872818</td>\n",
              "      <td>0.339917</td>\n",
              "      <td>0.889927</td>\n",
              "      <td>0.374136</td>\n",
              "    </tr>\n",
              "  </tbody>\n",
              "</table>\n",
              "</div>"
            ],
            "text/plain": [
              "              Fixed_charge       RoR      Cost  ...     Sales   Nuclear  Fuel_Cost\n",
              "Company                                         ...                               \n",
              "Arizona          -0.300057 -0.700750 -0.426938  ...  0.046983 -0.731447  -0.873765\n",
              "Boston           -1.243092 -0.199030  0.840322  ... -1.103127  0.810687   0.832436\n",
              "Central           1.752432  2.127130 -1.371171  ...  0.085906 -0.731447  -0.082323\n",
              "Commonwealth     -0.521947  0.211469 -0.004518  ... -0.718219  1.359271  -0.741244\n",
              "NY                2.085268 -0.883194  0.591840  ... -1.618644  0.219434   1.732470\n",
              "Florida           1.142233  1.260521 -1.420868  ...  0.638040  0.640016   0.254499\n",
              "Hawaiian          0.587506  0.667579  0.169420  ... -0.366757 -0.731447   1.010970\n",
              "Idaho            -0.078166 -0.700750  1.908797  ...  1.201706 -0.731447  -1.460904\n",
              "Kentucky          1.253178  1.032466 -0.004518  ... -0.146480 -0.731447  -0.443073\n",
              "Madison           0.032779  0.758801  0.716081  ... -0.708993  1.657945  -0.882967\n",
              "Nevada           -2.019709 -1.476137  0.119723  ...  2.458495 -0.731447  -0.616086\n",
              "New England       0.088252  0.074636  0.243965  ... -0.795777 -0.731447   1.461908\n",
              "Northern          0.199197  0.895634  0.765778  ... -0.500249  2.328438  -1.059661\n",
              "Oklahoma         -0.133639  0.576357 -1.793591  ...  0.218822 -0.731447  -0.947387\n",
              "Pacific          -0.854783 -1.430526 -0.103911  ... -0.705245 -0.676588   0.547149\n",
              "Puget             0.254670 -0.381474  2.082734  ...  2.040430 -0.731447  -0.888489\n",
              "San Diego        -1.964237 -1.977857 -0.799662  ... -0.922638 -0.225529   1.504241\n",
              "Southern         -0.355529  0.850023 -0.451786  ...  0.353468 -0.731447   0.009705\n",
              "Texas             0.254670  0.439524 -1.594805  ...  1.324242 -0.731447  -0.859040\n",
              "Wisconsin         0.476561  0.485135 -0.501483  ... -0.469110  1.773758  -0.737563\n",
              "United           -0.411002 -0.974416  0.890019  ... -0.652770 -0.731447   1.864991\n",
              "Virginia         -0.244584 -0.655139  0.144572  ...  0.339917  0.889927   0.374136\n",
              "\n",
              "[22 rows x 8 columns]"
            ]
          },
          "metadata": {},
          "execution_count": 17
        }
      ]
    },
    {
      "cell_type": "markdown",
      "metadata": {
        "id": "h0OM_A47CyF3"
      },
      "source": [
        "#### cluster"
      ]
    },
    {
      "cell_type": "code",
      "metadata": {
        "id": "J3Gm80sCDQWH"
      },
      "source": [
        "# create class obj.\n",
        "km = KMeans(n_clusters=6,\n",
        "            init='k-means++',\n",
        "            n_init=10,\n",
        "            max_iter=300,\n",
        "            random_state=1)\n",
        "\n",
        "# km.fit\n",
        "y_km = km.fit_predict(utils2)"
      ],
      "execution_count": 19,
      "outputs": []
    },
    {
      "cell_type": "markdown",
      "metadata": {
        "id": "awfg6NIVDp70"
      },
      "source": [
        "#### result"
      ]
    },
    {
      "cell_type": "code",
      "metadata": {
        "colab": {
          "base_uri": "https://localhost:8080/"
        },
        "id": "kI9cPK0VDfwM",
        "outputId": "9b32f04b-0ce2-4b8c-d234-eee6cae05a57"
      },
      "source": [
        "y_km"
      ],
      "execution_count": 20,
      "outputs": [
        {
          "output_type": "execute_result",
          "data": {
            "text/plain": [
              "array([4, 1, 3, 1, 5, 4, 0, 2, 3, 1, 2, 0, 1, 4, 0, 2, 0, 4, 4, 1, 0, 1],\n",
              "      dtype=int32)"
            ]
          },
          "metadata": {},
          "execution_count": 20
        }
      ]
    },
    {
      "cell_type": "code",
      "metadata": {
        "colab": {
          "base_uri": "https://localhost:8080/"
        },
        "id": "LcZ3IlwODjis",
        "outputId": "b97caaaf-8b66-4231-cc6c-b44febd56fde"
      },
      "source": [
        "# result interpretation\n",
        "list(zip(utils1.index.str.strip(), y_km))"
      ],
      "execution_count": 23,
      "outputs": [
        {
          "output_type": "execute_result",
          "data": {
            "text/plain": [
              "[('Arizona', 4),\n",
              " ('Boston', 1),\n",
              " ('Central', 3),\n",
              " ('Commonwealth', 1),\n",
              " ('NY', 5),\n",
              " ('Florida', 4),\n",
              " ('Hawaiian', 0),\n",
              " ('Idaho', 2),\n",
              " ('Kentucky', 3),\n",
              " ('Madison', 1),\n",
              " ('Nevada', 2),\n",
              " ('New England', 0),\n",
              " ('Northern', 1),\n",
              " ('Oklahoma', 4),\n",
              " ('Pacific', 0),\n",
              " ('Puget', 2),\n",
              " ('San Diego', 0),\n",
              " ('Southern', 4),\n",
              " ('Texas', 4),\n",
              " ('Wisconsin', 1),\n",
              " ('United', 0),\n",
              " ('Virginia', 1)]"
            ]
          },
          "metadata": {},
          "execution_count": 23
        }
      ]
    },
    {
      "cell_type": "markdown",
      "metadata": {
        "id": "KxY1nA7KDy0e"
      },
      "source": [
        "## Elbow Method\n",
        "- 모델 평가\n",
        "- 의사결정을 도와주는 수단"
      ]
    },
    {
      "cell_type": "code",
      "metadata": {
        "colab": {
          "base_uri": "https://localhost:8080/",
          "height": 297
        },
        "id": "g1B7ehyBETYt",
        "outputId": "6e740b80-c8df-4dcb-cdaf-58fe029234e7"
      },
      "source": [
        "distortions = []\n",
        "for i in range(1, 10):\n",
        "    km = KMeans(n_clusters=i, \n",
        "                init='k-means++', \n",
        "                n_init=10, \n",
        "                max_iter=300, \n",
        "                random_state=0)\n",
        "    km.fit(utils2)\n",
        "    distortions.append(km.inertia_)\n",
        "plt.plot(range(1, 10), distortions, marker='o')\n",
        "plt.xlabel('Number of clusters')\n",
        "plt.ylabel('Distortion')\n",
        "plt.tight_layout()\n",
        "plt.show()"
      ],
      "execution_count": 24,
      "outputs": [
        {
          "output_type": "display_data",
          "data": {
            "image/png": "[encoded data removed]",
            "text/plain": [
              "<Figure size 432x288 with 1 Axes>"
            ]
          },
          "metadata": {
            "needs_background": "light"
          }
        }
      ]
    },
    {
      "cell_type": "code",
      "metadata": {
        "id": "G3bdQ_BcEejs"
      },
      "source": [
        "# 과적합을 피하기 위해 적당한 클러스터수를 결정한다."
      ],
      "execution_count": 25,
      "outputs": []
    },
    {
      "cell_type": "code",
      "metadata": {
        "colab": {
          "base_uri": "https://localhost:8080/",
          "height": 297
        },
        "id": "euf2XdQtE4lN",
        "outputId": "2e71ca0d-60a8-4fd9-c187-f5f648af5bb8"
      },
      "source": [
        "from matplotlib import cm\n",
        "from sklearn.metrics import silhouette_samples\n",
        "\n",
        "cluster_labels = np.unique(y_km)\n",
        "n_clusters = cluster_labels.shape[0]\n",
        "silhouette_vals = silhouette_samples(utils2, y_km, metric='euclidean')\n",
        "y_ax_lower, y_ax_upper = 0, 0\n",
        "yticks = []\n",
        "for i, c in enumerate(cluster_labels):\n",
        "    c_silhouette_vals = silhouette_vals[y_km == c]\n",
        "    c_silhouette_vals.sort()\n",
        "    y_ax_upper += len(c_silhouette_vals)\n",
        "    color = cm.jet(float(i) / n_clusters)\n",
        "    plt.barh(range(y_ax_lower, y_ax_upper), c_silhouette_vals, height=1.0, \n",
        "             edgecolor='none', color=color)\n",
        "\n",
        "    yticks.append((y_ax_lower + y_ax_upper) / 2.)\n",
        "    y_ax_lower += len(c_silhouette_vals)\n",
        "    \n",
        "silhouette_avg = np.mean(silhouette_vals)\n",
        "plt.axvline(silhouette_avg, color=\"red\", linestyle=\"--\") \n",
        "\n",
        "plt.yticks(yticks, cluster_labels + 1)\n",
        "plt.ylabel('Cluster')\n",
        "plt.xlabel('Silhouette coefficient')\n",
        "\n",
        "plt.tight_layout()\n",
        "plt.show()"
      ],
      "execution_count": 26,
      "outputs": [
        {
          "output_type": "display_data",
          "data": {
            "image/png": "[encoded data removed]",
            "text/plain": [
              "<Figure size 432x288 with 1 Axes>"
            ]
          },
          "metadata": {
            "needs_background": "light"
          }
        }
      ]
    },
    {
      "cell_type": "markdown",
      "metadata": {
        "id": "0VAnQZm-Fi4c"
      },
      "source": [
        "# Ch10. hierarchical cluster analysis (HCA)"
      ]
    },
    {
      "cell_type": "markdown",
      "metadata": {
        "id": "lV_FJeIsHDpx"
      },
      "source": [
        "- 데이터가 적은 경우(50개 미만)에만 계층적 군집분석 방법을 이용한다. (연산량 문제)\n",
        "- 그보다 더 많은 경우, k-mean 방법을 사용한다.\n",
        "- HCA 방법의 경우, 트리 모형 그래프를 통해 유사한 개체를 확인하며 직관적으로 확인할 수 있다."
      ]
    },
    {
      "cell_type": "markdown",
      "metadata": {
        "id": "e28fj1tOFsnS"
      },
      "source": [
        "## distance matrix\n",
        "- **반드시 표준화한 값을 입력값으로 유클리디안 거리를 구할 것**"
      ]
    },
    {
      "cell_type": "code",
      "metadata": {
        "colab": {
          "base_uri": "https://localhost:8080/",
          "height": 235
        },
        "id": "ByHfIel5F7Xs",
        "outputId": "02261c9d-7383-4d83-d062-626d86fd2557"
      },
      "source": [
        "# import\n",
        "from scipy.spatial.distance import pdist, squareform\n",
        "\n",
        "# create dist-matrix\n",
        "row_dist = pd.DataFrame(squareform(pdist(utils2, \n",
        "                                         metric='euclidean')),\n",
        "                        columns=utils2.index,\n",
        "                        index=utils2.index)\n",
        "row_dist.iloc[:5, :5]"
      ],
      "execution_count": 32,
      "outputs": [
        {
          "output_type": "execute_result",
          "data": {
            "text/html": [
              "<div>\n",
              "<style scoped>\n",
              "    .dataframe tbody tr th:only-of-type {\n",
              "        vertical-align: middle;\n",
              "    }\n",
              "\n",
              "    .dataframe tbody tr th {\n",
              "        vertical-align: top;\n",
              "    }\n",
              "\n",
              "    .dataframe thead th {\n",
              "        text-align: right;\n",
              "    }\n",
              "</style>\n",
              "<table border=\"1\" class=\"dataframe\">\n",
              "  <thead>\n",
              "    <tr style=\"text-align: right;\">\n",
              "      <th>Company</th>\n",
              "      <th>Arizona</th>\n",
              "      <th>Boston</th>\n",
              "      <th>Central</th>\n",
              "      <th>Commonwealth</th>\n",
              "      <th>NY</th>\n",
              "    </tr>\n",
              "    <tr>\n",
              "      <th>Company</th>\n",
              "      <th></th>\n",
              "      <th></th>\n",
              "      <th></th>\n",
              "      <th></th>\n",
              "      <th></th>\n",
              "    </tr>\n",
              "  </thead>\n",
              "  <tbody>\n",
              "    <tr>\n",
              "      <th>Arizona</th>\n",
              "      <td>0.000000</td>\n",
              "      <td>3.169015</td>\n",
              "      <td>3.765812</td>\n",
              "      <td>2.520090</td>\n",
              "      <td>4.220157</td>\n",
              "    </tr>\n",
              "    <tr>\n",
              "      <th>Boston</th>\n",
              "      <td>3.169015</td>\n",
              "      <td>0.000000</td>\n",
              "      <td>5.032163</td>\n",
              "      <td>2.215142</td>\n",
              "      <td>3.943517</td>\n",
              "    </tr>\n",
              "    <tr>\n",
              "      <th>Central</th>\n",
              "      <td>3.765812</td>\n",
              "      <td>5.032163</td>\n",
              "      <td>0.000000</td>\n",
              "      <td>4.203729</td>\n",
              "      <td>4.573896</td>\n",
              "    </tr>\n",
              "    <tr>\n",
              "      <th>Commonwealth</th>\n",
              "      <td>2.520090</td>\n",
              "      <td>2.215142</td>\n",
              "      <td>4.203729</td>\n",
              "      <td>0.000000</td>\n",
              "      <td>4.224495</td>\n",
              "    </tr>\n",
              "    <tr>\n",
              "      <th>NY</th>\n",
              "      <td>4.220157</td>\n",
              "      <td>3.943517</td>\n",
              "      <td>4.573896</td>\n",
              "      <td>4.224495</td>\n",
              "      <td>0.000000</td>\n",
              "    </tr>\n",
              "  </tbody>\n",
              "</table>\n",
              "</div>"
            ],
            "text/plain": [
              "Company       Arizona    Boston   Central   Commonwealth        NY\n",
              "Company                                                           \n",
              "Arizona       0.000000  3.169015  3.765812      2.520090  4.220157\n",
              "Boston        3.169015  0.000000  5.032163      2.215142  3.943517\n",
              "Central       3.765812  5.032163  0.000000      4.203729  4.573896\n",
              "Commonwealth  2.520090  2.215142  4.203729      0.000000  4.224495\n",
              "NY            4.220157  3.943517  4.573896      4.224495  0.000000"
            ]
          },
          "metadata": {},
          "execution_count": 32
        }
      ]
    },
    {
      "cell_type": "code",
      "metadata": {
        "id": "7J30XUkzGQZS"
      },
      "source": [
        "# from Arizona to Arizona == 0 (itself)"
      ],
      "execution_count": 33,
      "outputs": []
    },
    {
      "cell_type": "code",
      "metadata": {
        "colab": {
          "base_uri": "https://localhost:8080/",
          "height": 700
        },
        "id": "Mdso5sGNG7d5",
        "outputId": "5dee8b9b-f067-421b-f397-f4a4cbdc26b4"
      },
      "source": [
        "from scipy.cluster.hierarchy import linkage\n",
        "\n",
        "row_clusters = linkage(utils2.values, \n",
        "                       method='complete', \n",
        "                       metric='euclidean')\n",
        "\n",
        "pd.DataFrame(row_clusters,\n",
        "             columns=['row label 1', 'row label 2',\n",
        "                      '거리', '클러스터 샘플 갯수.'],\n",
        "             index=[f'cluster {i+1}' for i in range(row_clusters.shape[0])])"
      ],
      "execution_count": 35,
      "outputs": [
        {
          "output_type": "execute_result",
          "data": {
            "text/html": [
              "<div>\n",
              "<style scoped>\n",
              "    .dataframe tbody tr th:only-of-type {\n",
              "        vertical-align: middle;\n",
              "    }\n",
              "\n",
              "    .dataframe tbody tr th {\n",
              "        vertical-align: top;\n",
              "    }\n",
              "\n",
              "    .dataframe thead th {\n",
              "        text-align: right;\n",
              "    }\n",
              "</style>\n",
              "<table border=\"1\" class=\"dataframe\">\n",
              "  <thead>\n",
              "    <tr style=\"text-align: right;\">\n",
              "      <th></th>\n",
              "      <th>row label 1</th>\n",
              "      <th>row label 2</th>\n",
              "      <th>거리</th>\n",
              "      <th>클러스터 샘플 갯수.</th>\n",
              "    </tr>\n",
              "  </thead>\n",
              "  <tbody>\n",
              "    <tr>\n",
              "      <th>cluster 1</th>\n",
              "      <td>11.0</td>\n",
              "      <td>20.0</td>\n",
              "      <td>1.416696</td>\n",
              "      <td>2.0</td>\n",
              "    </tr>\n",
              "    <tr>\n",
              "      <th>cluster 2</th>\n",
              "      <td>9.0</td>\n",
              "      <td>12.0</td>\n",
              "      <td>1.440143</td>\n",
              "      <td>2.0</td>\n",
              "    </tr>\n",
              "    <tr>\n",
              "      <th>cluster 3</th>\n",
              "      <td>3.0</td>\n",
              "      <td>19.0</td>\n",
              "      <td>1.859211</td>\n",
              "      <td>2.0</td>\n",
              "    </tr>\n",
              "    <tr>\n",
              "      <th>cluster 4</th>\n",
              "      <td>13.0</td>\n",
              "      <td>18.0</td>\n",
              "      <td>1.920200</td>\n",
              "      <td>2.0</td>\n",
              "    </tr>\n",
              "    <tr>\n",
              "      <th>cluster 5</th>\n",
              "      <td>0.0</td>\n",
              "      <td>17.0</td>\n",
              "      <td>1.921424</td>\n",
              "      <td>2.0</td>\n",
              "    </tr>\n",
              "    <tr>\n",
              "      <th>cluster 6</th>\n",
              "      <td>7.0</td>\n",
              "      <td>15.0</td>\n",
              "      <td>2.253263</td>\n",
              "      <td>2.0</td>\n",
              "    </tr>\n",
              "    <tr>\n",
              "      <th>cluster 7</th>\n",
              "      <td>14.0</td>\n",
              "      <td>22.0</td>\n",
              "      <td>2.383636</td>\n",
              "      <td>3.0</td>\n",
              "    </tr>\n",
              "    <tr>\n",
              "      <th>cluster 8</th>\n",
              "      <td>1.0</td>\n",
              "      <td>21.0</td>\n",
              "      <td>2.478910</td>\n",
              "      <td>2.0</td>\n",
              "    </tr>\n",
              "    <tr>\n",
              "      <th>cluster 9</th>\n",
              "      <td>25.0</td>\n",
              "      <td>26.0</td>\n",
              "      <td>2.531909</td>\n",
              "      <td>4.0</td>\n",
              "    </tr>\n",
              "    <tr>\n",
              "      <th>cluster 10</th>\n",
              "      <td>23.0</td>\n",
              "      <td>24.0</td>\n",
              "      <td>2.637646</td>\n",
              "      <td>4.0</td>\n",
              "    </tr>\n",
              "    <tr>\n",
              "      <th>cluster 11</th>\n",
              "      <td>2.0</td>\n",
              "      <td>8.0</td>\n",
              "      <td>2.817399</td>\n",
              "      <td>2.0</td>\n",
              "    </tr>\n",
              "    <tr>\n",
              "      <th>cluster 12</th>\n",
              "      <td>6.0</td>\n",
              "      <td>28.0</td>\n",
              "      <td>2.999096</td>\n",
              "      <td>4.0</td>\n",
              "    </tr>\n",
              "    <tr>\n",
              "      <th>cluster 13</th>\n",
              "      <td>29.0</td>\n",
              "      <td>31.0</td>\n",
              "      <td>3.515710</td>\n",
              "      <td>6.0</td>\n",
              "    </tr>\n",
              "    <tr>\n",
              "      <th>cluster 14</th>\n",
              "      <td>10.0</td>\n",
              "      <td>27.0</td>\n",
              "      <td>3.544071</td>\n",
              "      <td>3.0</td>\n",
              "    </tr>\n",
              "    <tr>\n",
              "      <th>cluster 15</th>\n",
              "      <td>5.0</td>\n",
              "      <td>30.0</td>\n",
              "      <td>3.691134</td>\n",
              "      <td>5.0</td>\n",
              "    </tr>\n",
              "    <tr>\n",
              "      <th>cluster 16</th>\n",
              "      <td>32.0</td>\n",
              "      <td>36.0</td>\n",
              "      <td>4.205746</td>\n",
              "      <td>7.0</td>\n",
              "    </tr>\n",
              "    <tr>\n",
              "      <th>cluster 17</th>\n",
              "      <td>16.0</td>\n",
              "      <td>33.0</td>\n",
              "      <td>4.685009</td>\n",
              "      <td>5.0</td>\n",
              "    </tr>\n",
              "    <tr>\n",
              "      <th>cluster 18</th>\n",
              "      <td>4.0</td>\n",
              "      <td>34.0</td>\n",
              "      <td>4.870028</td>\n",
              "      <td>7.0</td>\n",
              "    </tr>\n",
              "    <tr>\n",
              "      <th>cluster 19</th>\n",
              "      <td>37.0</td>\n",
              "      <td>39.0</td>\n",
              "      <td>5.254603</td>\n",
              "      <td>14.0</td>\n",
              "    </tr>\n",
              "    <tr>\n",
              "      <th>cluster 20</th>\n",
              "      <td>35.0</td>\n",
              "      <td>38.0</td>\n",
              "      <td>6.136911</td>\n",
              "      <td>8.0</td>\n",
              "    </tr>\n",
              "    <tr>\n",
              "      <th>cluster 21</th>\n",
              "      <td>40.0</td>\n",
              "      <td>41.0</td>\n",
              "      <td>6.613030</td>\n",
              "      <td>22.0</td>\n",
              "    </tr>\n",
              "  </tbody>\n",
              "</table>\n",
              "</div>"
            ],
            "text/plain": [
              "            row label 1  row label 2        거리  클러스터 샘플 갯수.\n",
              "cluster 1          11.0         20.0  1.416696          2.0\n",
              "cluster 2           9.0         12.0  1.440143          2.0\n",
              "cluster 3           3.0         19.0  1.859211          2.0\n",
              "cluster 4          13.0         18.0  1.920200          2.0\n",
              "cluster 5           0.0         17.0  1.921424          2.0\n",
              "cluster 6           7.0         15.0  2.253263          2.0\n",
              "cluster 7          14.0         22.0  2.383636          3.0\n",
              "cluster 8           1.0         21.0  2.478910          2.0\n",
              "cluster 9          25.0         26.0  2.531909          4.0\n",
              "cluster 10         23.0         24.0  2.637646          4.0\n",
              "cluster 11          2.0          8.0  2.817399          2.0\n",
              "cluster 12          6.0         28.0  2.999096          4.0\n",
              "cluster 13         29.0         31.0  3.515710          6.0\n",
              "cluster 14         10.0         27.0  3.544071          3.0\n",
              "cluster 15          5.0         30.0  3.691134          5.0\n",
              "cluster 16         32.0         36.0  4.205746          7.0\n",
              "cluster 17         16.0         33.0  4.685009          5.0\n",
              "cluster 18          4.0         34.0  4.870028          7.0\n",
              "cluster 19         37.0         39.0  5.254603         14.0\n",
              "cluster 20         35.0         38.0  6.136911          8.0\n",
              "cluster 21         40.0         41.0  6.613030         22.0"
            ]
          },
          "metadata": {},
          "execution_count": 35
        }
      ]
    },
    {
      "cell_type": "code",
      "metadata": {
        "colab": {
          "base_uri": "https://localhost:8080/",
          "height": 513
        },
        "id": "_meG9zNtHcbm",
        "outputId": "427c46b7-e859-4ebb-938b-c00e2df60543"
      },
      "source": [
        "from scipy.cluster.hierarchy import dendrogram\n",
        "\n",
        "fig, axes = plt.subplots(figsize=(15,7))\n",
        "\n",
        "dendr = dendrogram(row_clusters,\n",
        "                   labels=utils2.index)\n",
        "\n",
        "plt.axhline(5.8, 0, 1, linestyle= ':', color= 'r')\n",
        "plt.text(2, 6, 'N cluster = 3', color= 'r')\n",
        "\n",
        "plt.tight_layout()\n",
        "plt.ylabel('Euclidean distance')\n",
        "plt.show()"
      ],
      "execution_count": 49,
      "outputs": [
        {
          "output_type": "display_data",
          "data": {
            "image/png": "[encoded data removed]",
            "text/plain": [
              "<Figure size 1080x504 with 1 Axes>"
            ]
          },
          "metadata": {
            "needs_background": "light"
          }
        }
      ]
    },
    {
      "cell_type": "code",
      "metadata": {
        "colab": {
          "base_uri": "https://localhost:8080/"
        },
        "id": "QLiG4r1yHtgp",
        "outputId": "dda4f210-8abf-4bef-a623-9a915fd58bd5"
      },
      "source": [
        "from sklearn.cluster import AgglomerativeClustering\n",
        "\n",
        "ac = AgglomerativeClustering(n_clusters=3, \n",
        "                             affinity='euclidean', \n",
        "                             linkage='complete')\n",
        "labels = ac.fit_predict(utils2)\n",
        "print(f'클러스터 레이블: {labels}')"
      ],
      "execution_count": 42,
      "outputs": [
        {
          "output_type": "stream",
          "name": "stdout",
          "text": [
            "클러스터 레이블: [0 0 0 0 0 0 1 2 0 0 2 1 0 0 1 2 1 0 0 0 1 0]\n"
          ]
        }
      ]
    },
    {
      "cell_type": "markdown",
      "metadata": {
        "id": "R09GDnECKkuW"
      },
      "source": [
        "Source | [기계학습 w/ Python](https://youtube.com/playlist?list=PLEUKy_nwlzwHmQZUPvYWUsy73wBrz7XFN)"
      ]
    }
  ]
}